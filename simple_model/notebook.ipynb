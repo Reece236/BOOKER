{
 "cells": [
  {
   "metadata": {
    "ExecuteTime": {
     "end_time": "2025-09-24T06:56:33.268900Z",
     "start_time": "2025-09-24T06:56:29.269508Z"
    }
   },
   "cell_type": "code",
   "source": [
    "import pandas as pd\n",
    "import numpy as np\n",
    "\n",
    "def load_and_prepare_data():\n",
    "    \"\"\"\n",
    "    Loads and aggregates player and team stats to the season level.\n",
    "    \"\"\"\n",
    "    # Load datasets\n",
    "    player_stats = pd.read_csv('/Users/reececalvin/heat/PlayerStatistics.csv').query('gameDate >= \"2015-01-01\" and gameType in [\"Regular Season\", \"NBA Cup\", \"NBA Emirates Cup\"]')\n",
    "    player_stats['season'] = pd.to_datetime(player_stats['gameDate']).dt.year\n",
    "\n",
    "    reg_season_ids = player_stats['gameId'].unique()\n",
    "    team_stats = pd.read_csv('/Users/reececalvin/heat/TeamStatistics.csv').query('gameDate >= \"2015-01-01\" and gameId in @reg_season_ids')\n",
    "\n",
    "    # Aggregate player data to season level\n",
    "    player_season_stats = (\n",
    "        player_stats\n",
    "        .groupby(['personId', 'season'])\n",
    "        .agg({\n",
    "            'firstName': 'first', 'lastName': 'first','playerteamCity': 'first', 'playerteamName': 'first',\n",
    "            'gameId': 'count', 'numMinutes': 'sum', 'points': 'sum', 'assists': 'sum',\n",
    "            'reboundsTotal': 'sum', 'reboundsOffensive': 'sum', 'reboundsDefensive': 'sum',\n",
    "            'steals': 'sum', 'blocks': 'sum', 'fieldGoalsAttempted': 'sum', 'fieldGoalsMade': 'sum',\n",
    "            'threePointersAttempted': 'sum', 'threePointersMade': 'sum', 'freeThrowsAttempted': 'sum',\n",
    "            'freeThrowsMade': 'sum', 'turnovers': 'sum', 'foulsPersonal': 'sum', 'plusMinusPoints':'sum'\n",
    "        })\n",
    "        .reset_index()\n",
    "    )\n",
    "\n",
    "    # Safely calculate shooting percentages to avoid division by zero\n",
    "    player_season_stats['fg_percentage'] = (\n",
    "        player_season_stats['fieldGoalsMade'] / player_season_stats['fieldGoalsAttempted'].replace(0, 1)\n",
    "    )\n",
    "    player_season_stats['three_pt_percentage'] = (\n",
    "        player_season_stats['threePointersMade'] / player_season_stats['threePointersAttempted'].replace(0, 1)\n",
    "    )\n",
    "    player_season_stats['ft_percentage'] = (\n",
    "        player_season_stats['freeThrowsMade'] / player_season_stats['freeThrowsAttempted'].replace(0, 1)\n",
    "    )\n",
    "\n",
    "    # Team identifier logic\n",
    "    player_season_stats['team_full_name'] = player_season_stats['playerteamCity'] + ' ' + player_season_stats['playerteamName'] + ' (' + player_season_stats['season'].astype(str) + ')'\n",
    "    player_season_stats['team_id'] = pd.Categorical(player_season_stats['team_full_name']).codes + 1\n",
    "\n",
    "    # Team data aggregation\n",
    "    team_season_records = (\n",
    "        team_stats\n",
    "        .groupby(['teamCity', 'teamName'])\n",
    "        .agg({'win': 'sum', 'gameId': 'count'})\n",
    "        .reset_index()\n",
    "    )\n",
    "    team_season_records.columns = ['team_city', 'team_name', 'wins', 'total_games']\n",
    "    team_season_records['team_full_name'] = team_season_records['team_city'] + ' ' + team_season_records['team_name']\n",
    "    team_season_records['team_id'] = pd.Categorical(team_season_records['team_full_name']).codes + 1\n",
    "    team_season_records['win_pct'] = team_season_records['wins'] / team_season_records['total_games']\n",
    "\n",
    "    return player_season_stats, team_season_records\n",
    "\n",
    "\n",
    "def prepare_stan_data(player_data, team_data):\n",
    "    \"\"\"\n",
    "    Prepares data for a hierarchical Stan model that predicts team wins.\n",
    "    \"\"\"\n",
    "\n",
    "    # Create a consistent team_id mapping across both dataframes\n",
    "    all_teams = player_data_filtered['team_full_name'].unique()\n",
    "    team_map = {name: i+1 for i, name in enumerate(all_teams)}\n",
    "\n",
    "    player_data_filtered['team_idx'] = player_data_filtered['team_full_name'].map(team_map)\n",
    "\n",
    "    # We need to get the team wins in the same order as our map\n",
    "    team_data_ordered = pd.DataFrame({'team_full_name': all_teams})\n",
    "    team_data_ordered = team_data_ordered.merge(\n",
    "        team_data[['team_full_name', 'wins']],\n",
    "        on='team_full_name',\n",
    "        how='left'\n",
    "    )\n",
    "    # 1. Define which columns to convert into per-36-minute rates.\n",
    "    stats_to_normalize = {\n",
    "        'plusMinusPoints': 'plus_minus_p36',\n",
    "        'points': 'points_p36',\n",
    "        'assists': 'assists_p36',\n",
    "        'reboundsOffensive': 'oreb_p36',\n",
    "        'reboundsDefensive': 'dreb_p36',\n",
    "        'steals': 'steals_p36',\n",
    "        'blocks': 'blocks_p36',\n",
    "        'turnovers': 'turnovers_p36',\n",
    "        'fieldGoalsAttempted': 'fga_p36',\n",
    "        'freeThrowsAttempted': 'fta_p36'\n",
    "    }\n",
    "\n",
    "    # 2. Calculate the rate for each stat.\n",
    "    for original_col, new_col in stats_to_normalize.items():\n",
    "        player_data_filtered[new_col] = (\n",
    "                                                player_data_filtered[original_col] / player_data_filtered['numMinutes']\n",
    "                                        ) * 36\n",
    "\n",
    "    # 3. Create the final dictionary for Stan.\n",
    "    stan_data = {\n",
    "        'N_players': len(player_data_filtered),\n",
    "        'N_teams': len(team_map),\n",
    "\n",
    "        'player_team_id': player_data_filtered['team_idx'].values,\n",
    "\n",
    "        # Target Variable\n",
    "        'plus_minus_p36': player_data_filtered['plus_minus_p36'].values,\n",
    "        'total_minutes': player_data_filtered['numMinutes'].values,\n",
    "\n",
    "        # Predictor Variables\n",
    "        'points_p36': player_data_filtered['points_p36'].values,\n",
    "        'assists_p36': player_data_filtered['assists_p36'].values,\n",
    "        'oreb_p36': player_data_filtered['oreb_p36'].values,\n",
    "        'dreb_p36': player_data_filtered['dreb_p36'].values,\n",
    "        'steals_p36': player_data_filtered['steals_p36'].values,\n",
    "        'blocks_p36': player_data_filtered['blocks_p36'].values,\n",
    "        'turnovers_p36': player_data_filtered['turnovers_p36'].values,\n",
    "        'fga_p36': player_data_filtered['fga_p36'].values,\n",
    "        'fta_p36': player_data_filtered['fta_p36'].values,\n",
    "        'team_wins': team_data_ordered['wins'].values.astype(int)\n",
    "    }\n",
    "\n",
    "    return stan_data, player_data_filtered\n",
    "\n",
    "\n",
    "player_df, team_df = load_and_prepare_data()\n",
    "stan_data_final, player_data_filtered = prepare_stan_data(player_df, team_df)\n",
    "print(\"Stan data prepared successfully for Per-36 model!\")\n",
    "print(\"Keys in dictionary:\", stan_data_final.keys())"
   ],
   "id": "69fe030ae5617d05",
   "outputs": [
    {
     "name": "stderr",
     "output_type": "stream",
     "text": [
      "/var/folders/gv/s6hmrh6n1tl4cf6nr2g77t140000gn/T/ipykernel_26679/3562960414.py:11: DtypeWarning: Columns (10,11) have mixed types. Specify dtype option on import or set low_memory=False.\n",
      "  player_stats = pd.read_csv('/Users/reececalvin/heat/PlayerStatistics.csv').query('gameDate >= \"2015-01-01\" and gameType in [\"Regular Season\", \"NBA Cup\", \"NBA Emirates Cup\"]')\n"
     ]
    },
    {
     "name": "stdout",
     "output_type": "stream",
     "text": [
      "Stan data prepared successfully for Per-36 model!\n",
      "Keys in dictionary: dict_keys(['N_players', 'N_teams', 'player_team_id', 'plus_minus_p36', 'total_minutes', 'points_p36', 'assists_p36', 'oreb_p36', 'dreb_p36', 'steals_p36', 'blocks_p36', 'turnovers_p36', 'fga_p36', 'fta_p36', 'team_wins'])\n"
     ]
    }
   ],
   "execution_count": 193
  },
  {
   "metadata": {
    "ExecuteTime": {
     "end_time": "2025-09-24T06:56:38.882164Z",
     "start_time": "2025-09-24T06:56:38.783570Z"
    }
   },
   "cell_type": "code",
   "source": "player_data_filtered.to_csv('player_season_stats_filtered.csv', index=False)",
   "id": "12f25c4769fa37a6",
   "outputs": [],
   "execution_count": 194
  },
  {
   "metadata": {
    "ExecuteTime": {
     "end_time": "2025-09-24T06:56:39.448158Z",
     "start_time": "2025-09-24T06:56:39.405017Z"
    }
   },
   "cell_type": "code",
   "source": [
    "import json\n",
    "with open('stan_data_final.json', 'w') as f:\n",
    "    json.dump({k: v.tolist() if isinstance(v, np.ndarray) else v for k, v in stan_data_final.items()}, f)"
   ],
   "id": "8f019c164ed6acbe",
   "outputs": [],
   "execution_count": 195
  }
 ],
 "metadata": {
  "kernelspec": {
   "name": "python3",
   "language": "python",
   "display_name": "Python 3 (ipykernel)"
  }
 },
 "nbformat": 5,
 "nbformat_minor": 9
}
